{
 "cells": [
  {
   "cell_type": "code",
   "execution_count": 1,
   "id": "04c53324-6a84-4846-ab04-2990a3ffdc69",
   "metadata": {},
   "outputs": [],
   "source": [
    "from mut_train import *"
   ]
  },
  {
   "cell_type": "code",
   "execution_count": 3,
   "id": "c93fa859-e5b5-4d23-9b71-e20763a3b6e9",
   "metadata": {},
   "outputs": [],
   "source": [
    "model = load_module(\"A\", Path(\"sut.py\"))"
   ]
  },
  {
   "cell_type": "code",
   "execution_count": null,
   "id": "9047dd54-052c-4739-98a9-f9395e206cee",
   "metadata": {},
   "outputs": [],
   "source": [
    "sut = model.SUT(mutant_folder, device=\"cuda\")"
   ]
  }
 ],
 "metadata": {
  "kernelspec": {
   "display_name": "Python 3 (ipykernel)",
   "language": "python",
   "name": "python3"
  },
  "language_info": {
   "codemirror_mode": {
    "name": "ipython",
    "version": 3
   },
   "file_extension": ".py",
   "mimetype": "text/x-python",
   "name": "python",
   "nbconvert_exporter": "python",
   "pygments_lexer": "ipython3",
   "version": "3.10.0"
  }
 },
 "nbformat": 4,
 "nbformat_minor": 5
}
